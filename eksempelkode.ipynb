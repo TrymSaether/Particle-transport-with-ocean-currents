{
 "cells": [
  {
   "cell_type": "code",
   "execution_count": null,
   "metadata": {},
   "outputs": [],
   "source": [
    "import numpy as np\n",
    "from matplotlib import pyplot as plt\n",
    "import time\n",
    "import cartopy.crs as ccrs\n",
    "import cartopy.feature as cfeature\n",
    "import xarray as xr\n",
    "from scipy.interpolate import RectBivariateSpline\n",
    "from module.interpolate import Interpolator\n",
    "import matplotlib.patches as mpatches"
   ]
  },
  {
   "cell_type": "code",
   "execution_count": null,
   "metadata": {},
   "outputs": [],
   "source": [
    "# Parameters for the model\n",
    "# --------- Particle parameters ---------\n",
    "particle_plot_parameters = {\"alpha\":1, \"linewidth\":0.9}\n",
    "\n",
    "\n",
    "# --------- Grid parameters ---------\n",
    "grid_streamplot_parameters = {\"color\": \"grey\",\"density\": 0.5,\"linewidth\": 0.25,\"arrowsize\": 1,\"arrowstyle\": \"->\"}\n",
    "grid_scatter_initial_parameters = {\"s\": 5, \"c\": \"blue\", \"marker\": \"o\", \"label\": \"Initial position\"}\n",
    "grid_scatter_final_parameters = {\"s\": 5, \"c\": \"red\", \"marker\": \"o\", \"label\": \"Final position\"}\n",
    "grid_plot_parameters = {\"alpha\":1, \"linewidth\":2}\n",
    "\n",
    "# ----------- Map parameters ------------\n",
    "# * Map projection\n",
    "map_streamplot_parameters = {\"color\": \"grey\",\"density\": 1,\"linewidth\": 1,\"arrowsize\": 1,\"arrowstyle\": \"->\"}\n",
    "map_scatter_initial_parameters = {\"s\": 2.5, \"color\": \"darkblue\"}\n",
    "map_scatter_final_parameters = {\"s\": 2.5, \"color\": \"green\"}\n",
    "map_plot_parameters = {\"alpha\": 0.3, \"linewidth\": 0.1,\"color\":\"cornflowerblue\"}\n",
    "\n",
    "# * XY projection\n",
    "xy_streamplot_parameters = {\"color\": \"grey\",\"density\": 1,\"linewidth\": 1,\"arrowsize\": 1,\"arrowstyle\": \"->\"}\n",
    "xy_scatter_initial_parameters = {\"s\": 2.5, \"color\": \"darkblue\"}\n",
    "xy_scatter_final_paramaeters = {\"s\": 2.5, \"color\": \"green\"}\n",
    "xy_plot_parameters = {\"alpha\": 0.3, \"linewidth\": 0.1,\"color\":\"cornflowerblue\"}\n",
    "\n",
    "# * Labels \n",
    "init_label = mpatches.Patch(color='darkblue', label='Initial position')\n",
    "final_label = mpatches.Patch(color='green', label='Final position')\n",
    "plot_label = mpatches.Patch(color='cornflowerblue', label='Trajectories')\n",
    "stream_label = mpatches.Patch(color='grey', label='Velocity field')\n",
    "stranded_label = mpatches.Patch(color='red', label='Stranded particles')"
   ]
  },
  {
   "cell_type": "markdown",
   "metadata": {},
   "source": [
    "---"
   ]
  },
  {
   "cell_type": "markdown",
   "metadata": {},
   "source": [
    "Plastic pollution in the ocean is a worldwide discussed topic because the consequences are disruptive for the environment, harming the ecosystem and posing a threat to marine life and human health. This settles why it is crucial to understand the dynamics of plastic particle transport in the ocean. By implementing the Langrangian particle method it is possible to predict where plastic particles will end up from their initial position in the ocean, which in turn will give us a better overview and a possiblity to initiate countermeasures. \n",
    "\n",
    "The Langrangian method consists of representing the plastic particles as numerical points and simulating the individual particles trajectories as they are traveling with the wind and current. The result is a simulation that calculates the probability of finding particles at specific locations at a given time. We do not need to model the fluid itself, as this information is produced and simulated by the Meteorological Institute [1]. Using this data, we access a more realistic understanding of the movement of the particles as well as accumulation zones."
   ]
  },
  {
   "cell_type": "markdown",
   "metadata": {},
   "source": [
    "# Simulation of single particle in analytical velocity field\n",
    "\n",
    "Velocity field  is given by\n",
    "$$ \\dot{x}(t)= [{v_x}(\\vec{x},t), {v_y}(\\vec{x},t)]$$\n",
    "$$ v_x = −\\pi A \\sin(\\pi f(x,t)) \\cos(\\pi y) $$\n",
    "$$ v_y = \\pi A \\cos(\\pi f(x,t)) \\sin(\\pi y) \\frac{\\partial f(x,t)}{\\partial x}$$\n",
    "$$ f(x,t) = a(t)x^2 + b(t)x $$\n",
    "$$ a(t) = \\epsilon \\sin(\\omega t) $$ \n",
    "$$ b(t) = 1 −2 \\epsilon \\sin(\\omega t)$$"
   ]
  },
  {
   "cell_type": "code",
   "execution_count": null,
   "metadata": {},
   "outputs": [],
   "source": []
  },
  {
   "cell_type": "code",
   "execution_count": null,
   "metadata": {},
   "outputs": [],
   "source": [
    "from module.interpolate import velocity\n",
    "from module.utilities import run_steplength_test\n",
    "\n",
    "X0 = np.array([[1.05], [0.50]]) # Initial position\n",
    "time_testvalues = np.array([50, 100, 200]) # Test values\n",
    "dt_testvalues = np.array([1, 0.1, 0.01, 0.001]) \n",
    "run_steplength_test(velocity, X0, time_testvalues=time_testvalues, stepsize_testvalues=dt_testvalues, **particle_plot_parameters) # Testing"
   ]
  },
  {
   "cell_type": "markdown",
   "metadata": {},
   "source": [
    "For the first time interval $t \\in [0, 50]$, the time-step $dt = 0.1$ seems to be suffiecient to represent the particle.\n",
    "For the time interval $t \\in [0, 100]$, $dt = 0.1$ deviates more from the shorter time steps, and is not short enough to represent the particle path correctly. With $dt = 0.01$ however, the approximation of the particle tracjectory is more accurate when comparing to the smaller timestep. \n",
    "\n",
    "Regarding the runtime, the biggest reduction happens when increasing $dt$ from 0.001 to 0.01. The graph shows a double in runtime when the time interval doubles, i.e. runtime is proportional to array length when using numpy arrays. For the time intervals tested here, the length of the arrays is not long enough for $dt$ to have a remarkable impact on runtime. For calculations going over several days, which will be the case later in the rapport, $dt$ will have to be considerably larger.\n",
    "\n",
    "Due to the significant reduction in runtime, as well as the high accuracy of the trajectory, $dt = 0.01$ is the most economic timestep for these calculations.\n"
   ]
  },
  {
   "cell_type": "markdown",
   "metadata": {},
   "source": [
    "## Simulation of multiple particles in a $0.1 \\times 0.1$ grid"
   ]
  },
  {
   "cell_type": "code",
   "execution_count": null,
   "metadata": {},
   "outputs": [],
   "source": [
    "from module.trajectory import Trajectory\n",
    "\n",
    "time_interval = [0, 10]\n",
    "dt =  0.01\n",
    "Np  = 100\n",
    "mode = \"grid\"\n",
    "gridsize = [-0.1, 0.1]\n",
    "\n",
    "traj = Trajectory(time_interval=time_interval, stepsize=dt, number_of_particles=Np, mode=mode, location=gridsize)\n",
    "traj(velocity)\n",
    "traj.info()"
   ]
  },
  {
   "cell_type": "code",
   "execution_count": null,
   "metadata": {},
   "outputs": [],
   "source": [
    "fig, ax = plt.subplots(1, 1, figsize=(10, 8))\n",
    "\n",
    "traj.plot(ax, **grid_plot_parameters)\n",
    "traj.streamplot(ax, **grid_streamplot_parameters)\n",
    "traj.scatter(ax, t=0, **grid_scatter_initial_parameters)\n",
    "traj.scatter(ax, t=-1, **grid_scatter_final_parameters)\n",
    "\n",
    "ax.set_xlabel(\"x\")\n",
    "ax.set_ylabel(\"y\")\n",
    "ax.set_title(f\"Trajectories of $N_p = 100$ particles in $(0.1\\\\times 0.1)$ grid\")\n",
    "plt.grid()\n",
    "plt.tight_layout()\n",
    "\n",
    "plt.show()"
   ]
  },
  {
   "cell_type": "markdown",
   "metadata": {},
   "source": [
    "Depending on the initial position of each particle, here only separated by a distance of 0.01 units, takes different paths. The time interval is here limited to $t \\in [0, 10]$ The streamlines represent the velocity field at $t=0$ to give an idea of the impact of the current and wind. This will change with time, but keeps somewhat the same shape. The particles on the further right are caught by the streams to the right, and similarly on the left side. "
   ]
  },
  {
   "cell_type": "code",
   "execution_count": null,
   "metadata": {},
   "outputs": [],
   "source": [
    "streamplot_parameters = {\"color\": \"grey\",\"density\": 1,\"linewidth\": 0.3,\"arrowsize\": 1,\"arrowstyle\": \"->\"}\n",
    "scatter_initial_parameters = {\"s\": 5, \"c\": \"blue\", \"marker\": \"o\", \"label\": \"Initial position\"}\n",
    "scatter_final_parameters = {\"s\": 5, \"c\": \"red\", \"marker\": \"o\", \"label\": \"Final position\"}\n",
    "plot_parameters = {\"alpha\":1, \"linewidth\":2}\n",
    "\n",
    "\n",
    "time_interval = [0, 10]\n",
    "dt =  0.01\n",
    "Np  = 100\n",
    "mode = \"grid\"\n",
    "gridsize = [-0.1, 0.1]\n",
    "time_velocity_field = [0, 5, 10]\n",
    "\n",
    "traj = Trajectory(time_interval=time_interval, stepsize=dt, number_of_particles=Np, mode=mode, location=gridsize)\n",
    "traj(velocity)\n",
    "traj.info()"
   ]
  },
  {
   "cell_type": "code",
   "execution_count": null,
   "metadata": {},
   "outputs": [],
   "source": [
    "\n",
    "fig, ax = plt.subplots(1, 3, figsize=(20, 12))\n",
    "\n",
    "for i, time in enumerate(time_velocity_field):\n",
    "    traj.plot(ax[i], **grid_plot_parameters)\n",
    "    traj.streamplot(ax[i],time_velocity_field = time, **grid_streamplot_parameters)\n",
    "    traj.scatter(ax[i], t=0, **grid_scatter_initial_parameters)\n",
    "    traj.scatter(ax[i], t=-1, **grid_scatter_final_parameters)\n",
    "    ax[i].set_xlabel(\"x\")\n",
    "    ax[i].set_ylabel(\"y\")\n",
    "    ax[i].set_title(f\"Trajectories at time = {time}\")\n",
    "\n",
    "plt.tight_layout()\n",
    "plt.show()"
   ]
  },
  {
   "cell_type": "markdown",
   "metadata": {},
   "source": [
    "Depending on the time, here plotted at $t = 0$, $t=5$ and $t=10$, the velocity field changes some, but the overall shape remains quite similar."
   ]
  },
  {
   "cell_type": "markdown",
   "metadata": {},
   "source": [
    "## Correlation between number of particles and runtime"
   ]
  },
  {
   "cell_type": "code",
   "execution_count": null,
   "metadata": {},
   "outputs": [],
   "source": [
    "from module.utilities import run_timing_test\n",
    "\n",
    "dt = 0.01\n",
    "time_interval = [0, 10]\n",
    "Np_testvalues = [1, 10, 100, 1000, 10_000, 100_000]\n",
    "\n",
    "times, linear_times = run_timing_test(interpolator=velocity, number_of_particles_testvalues = Np_testvalues, time_interval = time_interval, stepsize=0.01)\n",
    "\n",
    "fig, ax = plt.subplots(figsize=(7.5, 5))\n",
    "\n",
    "ax.plot(Np_testvalues, times, marker=\"o\", label=\"Actual Time\")\n",
    "ax.plot(Np_testvalues, linear_times, marker=\"o\", linestyle=\"--\", label=\"Linear Time\")\n",
    "ax.set_title(\"Runtime vs. Number of Particles\")\n",
    "ax.set_xlabel(\"Number of Particles\")\n",
    "ax.set_ylabel(\"Run Time (s)\")\n",
    "ax.set_xscale(\"log\")\n",
    "ax.set_yscale(\"log\")\n",
    "ax.legend()\n",
    "plt.grid(True)\n",
    "plt.show()"
   ]
  },
  {
   "cell_type": "markdown",
   "metadata": {},
   "source": [
    "The graph shows the curve is approximately constant for fewer particles, i.e. shorter arrays. When the number of particles reach approximately 1000, the run time takes on a linear increase.\n",
    "\n",
    "For few particles, the linear increase may be too little to measure. The overhead time, in this case, is the time that python and jupyter cell/kernel uses as preparation for executing the task at hand. This overhead time can be few milliseconds, meaning if the running time of the numerical calculations are much smaller than the overhead time, there are no noticable variations between runtimes before it reaches a certain threshold. Here, this threshold seems to be reached when there are over 100 particles.\n",
    "\n",
    "Another possible explanation for the constant runtime is how numpy allocates memory. For smaller array-sizes the compiler may overestimate how much memory needs to be allocated to avoid asking for new memory for every inceased index. Adding elements threrfore doesn't require additional runtime, resulting in constant time $\\mathcal{O}(1)$. For bigger array-sizes, Python needs to allocate memory more frequently, resulting in a linear increase of runtime $\\mathcal{O}(n)$.\n"
   ]
  },
  {
   "cell_type": "markdown",
   "metadata": {},
   "source": [
    "---\n"
   ]
  },
  {
   "cell_type": "markdown",
   "metadata": {},
   "source": [
    "# Simulation of plastic particles using wind and current data\n",
    "## Plastic particles in Trondheimsfjorden"
   ]
  },
  {
   "cell_type": "code",
   "execution_count": null,
   "metadata": {},
   "outputs": [],
   "source": [
    "Np = 1000\n",
    "days, dt = 5, 3600\n",
    "T = [0, days * 24 * dt]\n",
    "mode = \"map\"\n",
    "loc, scale = [790_000, 490_000], 10_000\n",
    "dataset = xr.open_dataset(\"data/NorKyst-800m.nc\")\n",
    "interpolator = Interpolator(dataset=dataset)"
   ]
  },
  {
   "cell_type": "markdown",
   "metadata": {},
   "source": [
    "## Simulation projected on to the $xy$-plane"
   ]
  },
  {
   "cell_type": "code",
   "execution_count": 41,
   "metadata": {},
   "outputs": [
    {
     "name": "stdout",
     "output_type": "stream",
     "text": [
      "Trajectory with:\n",
      "Np: 1000 particles\n",
      "Time: [0, 432000]\n",
      "Time step: 3600\n",
      "Mode: map\n",
      "Check land: False\n",
      "Velocity shape: (120, 1000)\n",
      "X, Y shape: (120, 1000)\n",
      "U, V shape: (120, 1000)\n",
      "xmin: 755181.8510179053, xmax: 963034.7703346842\n",
      "ymin: 424053.5108080803, ymax: 523032.90798657364\n",
      "Distance mean: 178389.8000946662\n",
      "Windage factor: 0.03\n"
     ]
    }
   ],
   "source": [
    "traj_xy = Trajectory(time_interval=T, number_of_particles=Np, stepsize=dt, mode=mode, location=loc, scale=scale)\n",
    "traj_xy(interpolator)\n",
    "traj_xy.info()"
   ]
  },
  {
   "cell_type": "code",
   "execution_count": null,
   "metadata": {},
   "outputs": [],
   "source": [
    "fig, ax = plt.subplots(1, 1, figsize=(10,7))\n",
    "traj_xy.plot(ax, **map_plot_parameters)\n",
    "traj_xy.scatter(ax, t=0, label=\"Initial position\", **map_scatter_initial_parameters)\n",
    "traj_xy.scatter(ax, t=-1, label=\"Final position\", **map_scatter_final_parameters)\n",
    "ax.set_title(f\"Trajectories of $N_p = {Np}$ particles over {days} days\")\n",
    "ax.set_xlabel(\"X (m)\")\n",
    "ax.set_ylabel(\"Y (m)\")\n",
    "ax.legend(handles=[init_label, final_label, plot_label])\n",
    "ax.grid()\n",
    "\n",
    "plt.tight_layout()\n",
    "plt.show()\n"
   ]
  },
  {
   "cell_type": "code",
   "execution_count": 42,
   "metadata": {},
   "outputs": [
    {
     "name": "stdout",
     "output_type": "stream",
     "text": [
      "(120, 1000) (120, 1000)\n"
     ]
    }
   ],
   "source": [
    "from matplotlib.animation import FuncAnimation\n",
    "\n",
    "X, Y = traj_xy.get_XY()\n",
    "print(X.shape, Y.shape)\n",
    "\n",
    "fig, ax = plt.subplots(1, 1, figsize=(10, 7))\n",
    "ax.scatter(X[0, :], Y[0, :], **xy_scatter_initial_parameters)\n",
    "ax.set_xlim(X.min(), X.max())\n",
    "ax.set_ylim(Y.min(), Y.max())\n",
    "ax.set_xlabel(\"X (m)\")\n",
    "ax.set_ylabel(\"Y (m)\")\n",
    "\n",
    "def animate(i):\n",
    "    ax.plot(X[i, :], Y[i, :], **xy_plot_parameters)\n",
    "    ax.set_title(f\"Trajectories of $N_p = {Np}$ particles over {days} days\")\n",
    "    if i == X.shape[0]:\n",
    "        ax.scatter(X[-1, :], Y[-1, :], **xy_scatter_final_paramaeters)\n",
    "\n",
    "\n",
    "\n",
    "anim = FuncAnimation(fig, animate, frames=X.shape[0], interval=100)\n",
    "# Save gif\n",
    "anim.save(\"trajectories.gif\", writer=\"pillow\")\n",
    "plt.show()"
   ]
  },
  {
   "cell_type": "markdown",
   "metadata": {},
   "source": [
    "Since the implementation of the numerical integrater *\"Heun's method\"* is quite fast, the number of particles can be in the range $N_p \\in (0, 10000]$. For example, at $N_{(p, max)} = 10.000$, the run time is approximately one minute. \n",
    "\n",
    "Location and initial conditions are set at $t_0 = 0$ following a Gaussian distribution, within the $x$ and $y$ grid from the dataset. This grid represents the planar projection of Norway, including the shoreline.\n",
    "\n",
    "In this example the location corresponds to the coast outside Trondheim.\n",
    "$$(x_0, y_0) \\backsim \\mathcal{N}(\\mu = (790000, 490000), \\sigma = 10000)$$\n",
    "\n",
    "In the five days showed in the plot, the trajectory lines show many of the particles taking a curved path as a result of the wind and current. For example at grid coordinate $(875000, 480000)$ the particles are most likely caught by a strong current, shifting their direction approximatly $180\\degree $. "
   ]
  },
  {
   "cell_type": "markdown",
   "metadata": {},
   "source": [
    "## Simulation projected on world map"
   ]
  },
  {
   "cell_type": "code",
   "execution_count": null,
   "metadata": {},
   "outputs": [],
   "source": [
    "traj_map = Trajectory(time_interval=T, number_of_particles=Np, stepsize=dt, mode=\"map\", location=loc, scale=scale)\n",
    "traj_map(interpolator)\n",
    "traj_map.info()"
   ]
  },
  {
   "cell_type": "code",
   "execution_count": null,
   "metadata": {},
   "outputs": [],
   "source": [
    "\n",
    "fig, ax = plt.subplots(1,1, figsize=(10,7), subplot_kw={\"projection\": ccrs.PlateCarree()})\n",
    "\n",
    "traj_map.init_map(ax, **map_plot_parameters)\n",
    "traj_map.scatter(ax, t=0, label=\"initial position\", **map_scatter_initial_parameters)\n",
    "traj_map.scatter(ax, t=-1, label=\"final position\", **map_scatter_final_parameters)\n",
    "traj_map.streamplot(ax, **map_streamplot_parameters)\n",
    "ax.legend(handles=[init_label, final_label, plot_label, stream_label])\n",
    "ax.set_title(f\"Trajectories of $N_p = {Np}$ particles over {days} days\")\n",
    "ax.set_xlabel(\"X (m)\")\n",
    "ax.set_ylabel(\"Y (m)\")\n",
    "ax.grid()\n",
    "plt.tight_layout()\n",
    "\n",
    "plt.show()"
   ]
  },
  {
   "cell_type": "markdown",
   "metadata": {},
   "source": [
    "The world map shows the same particle trajectory as the plot in the xy-plane above, where the turning point $(875000, 480000)$ here corresponds roughly to a latitude of $64.8 \\degree N $ and a longitude of $9.4 \\degree E$. This plot also illustrates the streamlines of the current and wind creating a vortex shape in this location, explaining the particles' sudden shift in direction."
   ]
  },
  {
   "cell_type": "markdown",
   "metadata": {},
   "source": [
    "## Comparing different initial conditions"
   ]
  },
  {
   "cell_type": "code",
   "execution_count": null,
   "metadata": {},
   "outputs": [],
   "source": [
    "dataset = xr.open_dataset(\"data/NorKyst-800m.nc\")\n",
    "interpolator = Interpolator(dataset=dataset)\n",
    "\n",
    "Np=500\n",
    "days = 5\n",
    "time_interval = [0, days * 24 * 3600]\n",
    "dt=3600\n",
    "mode = \"map\"\n",
    "\n",
    "bergen, scale = [250000, 460000], 10000\n",
    "traj_bergen = Trajectory(time_interval=time_interval, stepsize=dt, number_of_particles=Np, mode=mode, location=bergen, scale=scale)\n",
    "traj_bergen(interpolator)\n",
    "traj_bergen.info()\n",
    "\n",
    "lofoten, scale = [1240000, 480000], 10000\n",
    "traj_lofoten = Trajectory(time_interval=time_interval, stepsize=dt, number_of_particles=Np, mode=mode, location=lofoten, scale=scale)\n",
    "traj_lofoten(interpolator)\n",
    "traj_lofoten.info()\n",
    "\n",
    "oslo, scale = [190_000, 100_000], 5000\n",
    "traj_oslo = Trajectory(time_interval=time_interval, stepsize=dt, number_of_particles=Np, mode=mode, location=oslo, scale=scale)\n",
    "traj_oslo(interpolator);\n",
    "traj_oslo.info()\n"
   ]
  },
  {
   "cell_type": "code",
   "execution_count": null,
   "metadata": {},
   "outputs": [],
   "source": [
    "fig, ax = plt.subplots(3,1,figsize=(10, 15), subplot_kw={\"projection\": ccrs.PlateCarree()})\n",
    "\n",
    "ax[0].set_title(\"Bergensfjorden\")\n",
    "traj_bergen.init_map(ax[0], **map_plot_parameters)\n",
    "traj_bergen.streamplot(ax[0], **map_streamplot_parameters)\n",
    "traj_bergen.scatter(ax[0], t=0, **map_scatter_initial_parameters)\n",
    "traj_bergen.scatter(ax[0], t=-1, **map_scatter_final_parameters)\n",
    "\n",
    "ax[1].set_title(\"Lofoten\")\n",
    "traj_lofoten.init_map(ax[1], **map_plot_parameters)\n",
    "traj_lofoten.streamplot(ax[1], **map_streamplot_parameters)\n",
    "traj_lofoten.scatter(ax[1], t=0, **map_scatter_initial_parameters)\n",
    "traj_lofoten.scatter(ax[1], t=-1, **map_scatter_final_parameters)\n",
    "\n",
    "ax[2].set_title(\"Oslofjorden\")\n",
    "traj_oslo.init_map(ax[2], **map_plot_parameters)\n",
    "traj_oslo.streamplot(ax[2], **map_streamplot_parameters)\n",
    "traj_oslo.scatter(ax[2], t=0, **map_scatter_initial_parameters)\n",
    "traj_oslo.scatter(ax[2], t=-1, **map_scatter_final_parameters)\n",
    "\n",
    "fig.legend(handles=[init_label, final_label, plot_label, stream_label])\n",
    "plt.tight_layout()\n",
    "plt.show()"
   ]
  },
  {
   "cell_type": "markdown",
   "metadata": {},
   "source": [
    "The plots show three simulations of $N_p = 500$ particle trajectories, in Bergensfjorden, outside Lofoten, and in Oslofjorden. The areas seem to have different path trends. Outside Bergensfjorden the wind and current is directed in various directions, resulting in a larger spread in the trajectories and final positions. The particles are first dragged in towards the shore, before being pulled out again.\n",
    "\n",
    "The currents outside Lofoten seems to pull the particles out from the shore, resulting in a accumulation by the shoreline. The silulation does not take into account \n",
    "\n",
    "The particles in Oslofjorden follow a very homogenous curved path, where they end up along a continuous line.\n"
   ]
  },
  {
   "cell_type": "markdown",
   "metadata": {},
   "source": [
    "# Simulation of particles reaching land\n",
    "\n"
   ]
  },
  {
   "cell_type": "code",
   "execution_count": null,
   "metadata": {},
   "outputs": [],
   "source": [
    "Np=500\n",
    "days = 3\n",
    "dt=3600\n",
    "time_interval = [0, days * 24 * dt]\n",
    "mode = \"map\"\n",
    "loc, scale = [250_000, 460_000], 10000\n",
    "time_array = np.arange(0, time_interval[1]-dt, dt)\n",
    "\n",
    "interpolator = Interpolator(dataset=dataset)\n",
    "traj_bergen = Trajectory(time_interval=time_interval, stepsize=dt, number_of_particles=Np, mode=mode, location=loc, scale=scale, check_land=True)\n",
    "traj_bergen(interpolator)\n",
    "traj_bergen.info()\n",
    "stranded_percent = traj_bergen.get_land_percent()"
   ]
  },
  {
   "cell_type": "code",
   "execution_count": null,
   "metadata": {},
   "outputs": [],
   "source": [
    "fig, ax = plt.subplots(figsize=(10,5), subplot_kw={\"projection\": ccrs.PlateCarree()})\n",
    "traj_bergen.init_map(ax, **map_plot_parameters)\n",
    "traj_bergen.plot(ax, **map_plot_parameters)\n",
    "traj_bergen.scatter(ax, t=0, **map_scatter_initial_parameters)\n",
    "traj_bergen.scatter(ax, t=-1, **map_scatter_final_parameters)\n",
    "traj_bergen.streamplot(ax, **map_streamplot_parameters)\n",
    "fig.legend(handles=[init_label, stranded_label, final_label, plot_label, stream_label])\n",
    "plt.title(f\"Bergensfjorden: {stranded_percent[-1]:.2f}% particles stranded\")\n",
    "plt.show()"
   ]
  },
  {
   "cell_type": "markdown",
   "metadata": {},
   "source": [
    "The red points indicate where particles have reached land. Without this feature, as shown earlier of Bergensfjorden, the particles seem to move out from land. This plot shows they stop at shore, instead of being caught by the outward stream."
   ]
  },
  {
   "cell_type": "code",
   "execution_count": null,
   "metadata": {},
   "outputs": [],
   "source": [
    "fig, ax = plt.subplots(figsize=(10,5))\n",
    "ax.plot(time_array/(3600*24), stranded_percent, color=\"magenta\")\n",
    "ax.set_title('Particles reaching land')\n",
    "ax.set_xlabel('Days')\n",
    "ax.set_ylabel('Particles reached land [%]')\n",
    "ax.grid()\n",
    "plt.show()"
   ]
  },
  {
   "cell_type": "markdown",
   "metadata": {},
   "source": [
    "In this example the initial conditions were placed on the west coast, where the wind and ocean current-vectors are pointing towards the shore. As expected the amount of particles reaching land therefore increases with time. After three days, about 20% of the particles have reached shore. One can see from the map that there is not a 100 % correlation between the map and the data, displaying some particles on land even though they still seem to be in the water. Since the minimum depth of the data is set to 5 m, it is not certain the particle has reached land. There might be some error due to this approximation, but due to uncertainties such as the time-varying tide and the precision of the coastline, setting the on-land-limit to 5 m is seemingly a valid estimation."
   ]
  },
  {
   "cell_type": "markdown",
   "metadata": {},
   "source": [
    "# Particle sensitivity to windage factor $f_w$\n",
    "\n",
    "The windage factor is a measure of how much the wind affects the particles' trajectory. The higher the windage factor, the more the particles are affected by the wind. In a practical sense, the windage factor capsulates the density of the plastic object. If the object has high density, it will be more submerged in water. The particle will therefore not be as affected by wind, resulting in a low windage factor.\n",
    "\n",
    "$$ f_w \\propto \\frac{1}{\\rho_{plastic}}"
   ]
  },
  {
   "cell_type": "code",
   "execution_count": null,
   "metadata": {},
   "outputs": [],
   "source": [
    "fw = np.linspace(0, 0.15, 5)\n",
    "dataset = xr.open_dataset(\"data/NorKyst-800m.nc\")\n",
    "map_streamplot_parameters = {\"density\": 0.35, \"linewidth\": 0.5,\"arrowsize\": 1,\"arrowstyle\": \"->\"}\n",
    "map_plot_parameters['alpha'] = 0.3\n",
    "\n",
    "landed_percent = []\n",
    "fig, ax = plt.subplots(1,3,figsize=(10,8),subplot_kw={\"projection\": ccrs.PlateCarree()})\n",
    "c = 0\n",
    "\n",
    "for w in fw:\n",
    "    interpolator = Interpolator(dataset=dataset, fw=w)\n",
    "    traj_bergen = Trajectory(time_interval=time_interval, stepsize=dt, number_of_particles=Np, mode=mode, location=loc, scale=scale, check_land=True)\n",
    "    traj_bergen(interpolator)\n",
    "    percent = traj_bergen.get_land_percent()\n",
    "    landed_percent.append(percent)\n",
    "    if w == 0 or w == 0.075 or w == 0.15:\n",
    "        ax[c] = traj_bergen.init_map(ax[c], **map_plot_parameters)\n",
    "        ax[c] = traj_bergen.streamplot(ax[c], **map_streamplot_parameters)\n",
    "        traj_bergen.plot(ax[c], **map_plot_parameters)\n",
    "        ax[c] = traj_bergen.scatter(ax[c], t=0, **{\"label\": \"Initial Position\",\"s\":2.5})\n",
    "        ax[c] = traj_bergen.scatter(ax[c], t=-1, **{\"label\": \"Final Position\", \"s\":2.5})\n",
    "        ax[c].set_title(f\"$f_w = {w}$: \\n Stranded: {percent[-1]:.0f}%\")\n",
    "        c+=1\n",
    "    \n",
    "\n",
    "fig.legend(handles=[stranded_label])\n",
    "plt.show()"
   ]
  },
  {
   "cell_type": "markdown",
   "metadata": {},
   "source": [
    "The plots show particle movement for windage factors $f_w = 0$, $f_w = 0.075$, and $f_w = 0.15$, indicating a gradual descending object density. With zero windage factor, the object is completely submerged in water, and the trajectory is therefore only affected by the current. The plot shows that no particles reach land in these conditions, while a high windage factors drags almost all particles to land. For higher windage factors, all particles take on a more laminar, coherent path, contrary to the more turbulent trajectories for low wind-contribution. In this case, we can conclude despite a relatively small increase in windage factor, it drastically affects the route of the particles. "
   ]
  },
  {
   "cell_type": "code",
   "execution_count": null,
   "metadata": {},
   "outputs": [],
   "source": [
    "windage_factor = np.round(fw, 2)\n",
    "landed_percent = np.array(landed_percent)\n",
    "time_array = np.arange(0, time_interval[1]-dt, dt)/(3600*24)\n",
    "X, Y = np.meshgrid(time_array, windage_factor)\n",
    "Z = landed_percent\n",
    "\n",
    "fig = plt.figure(figsize=(20,10))\n",
    "\n",
    "ax3d = fig.add_subplot(1,2,2, projection='3d')\n",
    "ax3d.plot_surface(X, Y, Z, cmap='coolwarm')\n",
    "ax3d.set_title(\"Percentage of particles reaching land\")\n",
    "ax3d.set_xlabel(\"Days\")\n",
    "ax3d.set_ylabel(\"Wind fraction\")\n",
    "ax3d.set_zlabel(\"Percentage of particles reaching land [%]\")\n",
    "ax3d.view_init(30, 140)\n",
    "\n",
    "ax = fig.add_subplot(1,2,1)\n",
    "ax.plot(windage_factor, landed_percent, marker=\"o\", linewidth=0.5)\n",
    "ax.set_title(\"Percentage of particles reaching land\")\n",
    "ax.set_xlabel(\"Wind fraction\")\n",
    "ax.set_ylabel(\"Percentage of particles reaching land [%]\")\n",
    "ax.grid()\n",
    "plt.tight_layout()\n",
    "plt.show()"
   ]
  },
  {
   "cell_type": "markdown",
   "metadata": {},
   "source": [
    "The plot shows the percentage of particles reaching land up after three days, for different windage factors. The plot to the right includes the time dimention as well, with increasing amount of particles reaching land as time goes by. The plot shows that the amount of particles reaching land increases with time, and that the windage factor has a significant impact on the amount of particles reaching land."
   ]
  },
  {
   "cell_type": "markdown",
   "metadata": {},
   "source": [
    "## Conclusion\n",
    "\n",
    "The simulation of plastic particle dynamics using the Lagrangian particle method has provided valuable insights into the movement and accumulation of plastic in marine environments. By simulating the trajectories of individual particles influenced by wind and current dynamics, this study offers a novel approach to predict the deposition areas of marine debris. The results emphasize the significant impact of windage factors on the paths of these particles, showing a correlation between the density of the plastic object and the likelihood of where it will end up.\n",
    "\n",
    "Such findings underscore the potential for targeted clean-up operations and the critical need for policies aimed at reducing oceanic plastic pollution. Further refinement of this model, incorporating a broader range of environmental variables and more detailed hydrodynamic data, could enhance our understanding and capability to mitigate the environmental impact of plastic pollution in the ocean."
   ]
  },
  {
   "cell_type": "markdown",
   "metadata": {},
   "source": [
    "---"
   ]
  },
  {
   "cell_type": "markdown",
   "metadata": {},
   "source": [
    "## References"
   ]
  },
  {
   "cell_type": "markdown",
   "metadata": {},
   "source": [
    "[1]: Meteorologisk Institutt. Retrieved 3. April 2024. NorKyst Data. https://thredds.met.no/thredds/catalog/fou-hi/norkyst800m-1h/catalog.html"
   ]
  }
 ],
 "metadata": {
  "anaconda-cloud": {},
  "kernelspec": {
   "display_name": "Python 3",
   "language": "python",
   "name": "python3"
  },
  "language_info": {
   "codemirror_mode": {
    "name": "ipython",
    "version": 3
   },
   "file_extension": ".py",
   "mimetype": "text/x-python",
   "name": "python",
   "nbconvert_exporter": "python",
   "pygments_lexer": "ipython3",
   "version": "3.12.2"
  }
 },
 "nbformat": 4,
 "nbformat_minor": 1
}
