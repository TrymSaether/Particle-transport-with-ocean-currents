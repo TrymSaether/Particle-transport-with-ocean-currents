{
 "cells": [
  {
   "cell_type": "code",
   "execution_count": null,
   "metadata": {},
   "outputs": [],
   "source": [
    "import numpy as np\n",
    "from matplotlib import pyplot as plt\n",
    "import time\n",
    "import cartopy.crs as ccrs\n",
    "import cartopy.feature as cfeature\n",
    "import xarray as xr\n",
    "from scipy.interpolate import RectBivariateSpline\n",
    "from module.interpolate import Interpolator"
   ]
  },
  {
   "cell_type": "markdown",
   "metadata": {},
   "source": [
    "---"
   ]
  },
  {
   "cell_type": "markdown",
   "metadata": {},
   "source": [
    "# Problem 1\n"
   ]
  },
  {
   "cell_type": "markdown",
   "metadata": {},
   "source": [
    "## ( 1-a )\n",
    "- We will first consider a single particle starting from an initial position $x_0 = [1.05,0.5]$. \n",
    "- Let the trajectory, x(t), of the particle be controlled by Eqs. (3) and (4). Calculate the trajectory for the time interval $ t_1 \\in [0, 50]$,  using Heun’s method.\n",
    "- Try a few different timesteps, and compare the results by plotting the trajectories for different timesteps in the same plot. Make up your mind about what seems a reasonably short timestep. \n",
    "- What happens if you double the integration time, such that $ t_2 \\in [0, 100]$, is the same timestep still a good choice?\n",
    "\n"
   ]
  },
  {
   "cell_type": "code",
   "execution_count": null,
   "metadata": {},
   "outputs": [],
   "source": [
    "fig_params = {\"figsize\": (7.5, 5)}\n",
    "streamplot_params = {\n",
    "    \"color\": \"seagreen\",\n",
    "    \"density\": 1,\n",
    "    \"linewidth\": 0.25,\n",
    "    \"arrowsize\": 1,\n",
    "    \"arrowstyle\": \"->\",\n",
    "}\n",
    "scatter_params = {\"s\": 5}\n",
    "plot_params = {\"alpha\":1, \"linewidth\":0.8}"
   ]
  },
  {
   "cell_type": "code",
   "execution_count": null,
   "metadata": {},
   "outputs": [],
   "source": [
    "from module.utilities import run_steplength_test\n",
    "\n",
    "\n",
    "def velocity(X, t):\n",
    "    A, eps, w = 0.10, 0.25, 1  # Initial constants\n",
    "    a = eps * np.sin(w * t)  # Equation 4a\n",
    "    b = 1 - 2 * eps * np.sin(w * t)\n",
    "    x, y = X  # Assuming X is a 2-element array or has shape (2, N)\n",
    "    f = a * x**2 + b * x  # Equation 4b\n",
    "    dx = -np.pi * A * np.sin(np.pi * f) * np.cos(np.pi * y)  # Equation 3\n",
    "    dy = np.pi * A * np.cos(np.pi * f) * np.sin(np.pi * y) * (2 * a * x + b)\n",
    "    return np.array([dx, dy])\n",
    "\n",
    "\n",
    "x0 = np.array([[1.05], [0.50]])\n",
    "T_values = np.array([50, 100])\n",
    "dt_values = np.array([1, 0.1, 0.01, 0.001])\n",
    "\n",
    "fig, ax = plt.subplots(1, len(T_values), figsize=(12, 5))\n",
    "ax, time_array = run_steplength_test(\n",
    "    velocity, ax, x0=x0, T_values=T_values, dt_values=dt_values, **plot_params\n",
    ")\n",
    "fig.suptitle(\"Trajectory for different step lengths\")\n",
    "fig.supxlabel(\"X\")\n",
    "fig.supylabel(\"Y\")\n",
    "fig.legend(*ax[0].get_legend_handles_labels(), loc=\"upper right\", title=\"Step length\")\n",
    "ax[0].grid()\n",
    "ax[1].grid()\n",
    "plt.tight_layout()\n",
    "plt.show()\n",
    "\n",
    "\n",
    "fig, ax = plt.subplots(figsize=(10, 5))\n",
    "\n",
    "ax.plot(dt_values, time_array[0, :], label=\"T = 50\")\n",
    "ax.plot(dt_values, time_array[1, :], label=\"T = 100\")\n",
    "\n",
    "ax.set_xscale(\"log\")\n",
    "ax.set_title(\"Runtime vs. timestep\")\n",
    "ax.set_xlabel(\"timestep\")\n",
    "ax.set_ylabel(\"runtime\")\n",
    "ax.grid()\n",
    "ax.legend()\n",
    "plt.show()"
   ]
  },
  {
   "cell_type": "code",
   "execution_count": null,
   "metadata": {},
   "outputs": [],
   "source": [
    "import time\n",
    "from module.trajectory import Trajectory\n",
    "\n",
    "x0 = np.array([[1.05], [0.50]])\n",
    "T_values = np.array([50, 100])\n",
    "dt_values = np.array([1, 0.1, 0.01, 0.001])\n",
    "\n",
    "\n",
    "figd, axd = plt.subplot_mosaic(\n",
    "    [[\"top\", \"top\"], [\"left\", \"right\"]], constrained_layout=True\n",
    ")\n",
    "\n",
    "x0 = np.array([[1.05], [0.50]])\n",
    "\n",
    "\n",
    "for tf in T_values:\n",
    "    t_array = np.empty((len(dt_values)))\n",
    "    for dt in dt_values:\n",
    "        print(f'T:{tf:^10} dt:{dt:^10}')\n",
    "        test_traj = Trajectory(x0,(0,tf),dt,Np=100)\n",
    "        tik = time.time()\n",
    "        test_traj(velocity, 'heun')\n",
    "        tok = time.time()\n",
    "        np.append(t_array, tik-tok)\n",
    "    print(t_array.shape)\n",
    "    axd['top'].plot(dt_values, t_array)\n",
    "    axd['top'].set_xscale(\"log\")\n",
    "    axd['top'].set_title(\"Runtime vs. timestep\")\n",
    "    axd['top'].set_xlabel(\"timestep\")\n",
    "    axd['top'].set_ylabel(\"runtime\")\n",
    "plt.show()"
   ]
  },
  {
   "cell_type": "markdown",
   "metadata": {},
   "source": [
    "For the first time interval $t \\in [0, 50]$, the time-step $t = 0.1$ seems to be suffiecient to represent the particle.\n",
    "For the time interval $t \\in [0, 100]$, $t = 0.1$ deviates more from the shorter time steps, and is not short enough to represent the particle path correctly. With $t = 0.01$ however, is a better approximation, when comparing to the smaller timestep. \n",
    "\n",
    "Regarding the runtime, the biggest reduction happens when increasing $dt$ from 0.001 to 0.01. The graph shows a double in runtime when the time interval doubles, i.e. runtime is proportional to array length when using numpy arrays. For the time intervals tested here, the length of the arrays is not long enough for $dt$ to have a remarkable impact on runtime. For calculations going over several days, which will be the case later in the rapport, $dt$ will have to be significantly bigger.\n",
    "\n",
    "Due to the significant reduction in runtime, $t = 0.01$ is the most economic timestep for these calculations.\n"
   ]
  },
  {
   "cell_type": "markdown",
   "metadata": {},
   "source": [
    "## ( 1-b )"
   ]
  },
  {
   "cell_type": "code",
   "execution_count": null,
   "metadata": {},
   "outputs": [],
   "source": [
    "fig_params = {\"figsize\": (7.5, 5)}\n",
    "streamplot_params = {\n",
    "    \"color\": \"grey\",\n",
    "    \"density\": 1,\n",
    "    \"linewidth\": 0.25,\n",
    "    \"arrowsize\": 1,\n",
    "    \"arrowstyle\": \"->\",\n",
    "}\n",
    "scatter_params = {\"s\": 5}\n",
    "plot_params = {\"alpha\":1, \"linewidth\":0.8}\n",
    "\n",
    "\n",
    "T = [0, 10]\n",
    "dt = 0.001\n",
    "Np = 100\n",
    "mode = \"grid\"\n",
    "loc = [-0.1, 0.1]\n",
    "scale = 0.1\n",
    "fig, ax = plt.subplots(1,1, figsize=(10, 10))\n",
    "traj = Trajectory(T=T, dt=dt, Np=Np, mode=mode, loc=loc, scale=scale)\n",
    "Y = traj(velocity)\n",
    "X, Y = np.meshgrid(np.linspace(-1.5,1.3, 100), np.linspace(-0.99, 0.99, 100))\n",
    "U, V = velocity([X, Y], 0)\n",
    "ax.streamplot(X, Y, U, V, **{\"color\": \"gray\", \"density\": 1, \"linewidth\": 0.5, \"arrowsize\": 0.9, \"arrowstyle\": \"->\"})\n",
    "traj.plot(ax, **plot_params)\n",
    "traj.scatter(ax, t=0, **scatter_params)\n",
    "traj.scatter(ax, t=-1, **scatter_params)\n",
    "ax.set_xlabel(\"x\")\n",
    "ax.set_ylabel(\"y\")\n",
    "ax.set_title(f\"Trajectories of $N_p = 100$ particles in $(0.1\\\\times 0.1)$ grid\")\n",
    "plt.grid()\n",
    "plt.tight_layout()\n",
    "plt.show()"
   ]
  },
  {
   "cell_type": "markdown",
   "metadata": {},
   "source": [
    "Depending on the initial position of each particle, here only separated by a distance of 0.01 units, takes different paths. The time interval is here limited to $t \\in [0, 10]$ The streamlines represent the velocity field at $t=0$ to give an idea of the impact of the current and wind. This will change with time, but keeps somewhat the same shape. The particles on the further right are caught by the streams to the right, and similarly on the left side. "
   ]
  },
  {
   "cell_type": "markdown",
   "metadata": {},
   "source": [
    "## ( 1-c )\n"
   ]
  },
  {
   "cell_type": "code",
   "execution_count": null,
   "metadata": {},
   "outputs": [],
   "source": [
    "from  module.utilities import run_timing_test\n",
    "\n",
    "dt = 0.01\n",
    "T = [0, 10]\n",
    "Np_values = [1, 10, 100, 1000, 10_000,100_000]\n",
    "times, linear_times, = run_timing_test(velocity, T=T, Np_values=Np_values, dt=0.01)\n",
    "\n",
    "fig, ax = plt.subplots(figsize=(7.5, 5))\n",
    "ax.plot(Np_values, times, marker=\"o\", label=\"Actual Time\")\n",
    "ax.plot(Np_values, linear_times, marker=\"o\", linestyle=\"--\", label=\"Linear Time\")\n",
    "ax.set_title(\"Run Time vs. Number of Particles\")\n",
    "ax.set_xlabel(\"Number of Particles\")\n",
    "ax.set_ylabel(\"Run Time (s)\")\n",
    "ax.set_xscale(\"log\")\n",
    "ax.set_yscale(\"log\")\n",
    "ax.legend()\n",
    "plt.grid(True)\n",
    "plt.show();"
   ]
  },
  {
   "cell_type": "markdown",
   "metadata": {},
   "source": [
    "\n",
    "The graph shows the curve is approximately constant for fewer particles, i.e. shorter arrays. For few particles, the linear increase may be too little to measure. The overhead time, in this case, is the time that python and jupyter cell/kernel uses as preparation for executing the task at hand. This overhead time can be few milliseconds, meaning if the running time of the numerical calculations are much smaller than the overhead time, there are no noticable variations between runtimes before it reaches a certain threshold. Here, this threshold seems to be reached when there are over 100 particles.\n",
    "\n",
    "Another possible explanation for the constant runtime is how numpy allocates memory. For smaller array-sizes the compiler may overestimate how much memory needs to be allocated to avoid asking for new memory for every inceased index. Adding elements threrfore doesn't require additional runtime, resulting in constant time $\\mathcal{O}(1)$. For bigger array-sizes, Python needs to allocate memory more frequently, resulting in a linear increase of runtime $\\mathcal{O}(n)$.\n"
   ]
  },
  {
   "cell_type": "markdown",
   "metadata": {},
   "source": [
    "---\n"
   ]
  },
  {
   "cell_type": "markdown",
   "metadata": {},
   "source": [
    "# Problem 2\n"
   ]
  },
  {
   "cell_type": "markdown",
   "metadata": {},
   "source": [
    "## ( 2-a )\n",
    "\n",
    "$\\hat{x} = 790.000$ og $\\hat{y} = 490.000$\n"
   ]
  },
  {
   "cell_type": "code",
   "execution_count": null,
   "metadata": {},
   "outputs": [],
   "source": [
    "streamplot_params = {\n",
    "    \"color\": \"seagreen\",\n",
    "    \"density\": 1,\n",
    "    \"linewidth\": 0.25,\n",
    "    \"arrowsize\": 1,\n",
    "    \"arrowstyle\": \"->\",\n",
    "}\n",
    "scatterInitParams = {\"s\": 5, \"color\": \"blue\"}\n",
    "scatterFinalParams = {\"s\": 5, \"color\": \"red\"}\n",
    "plot_params = {\"alpha\": 0.5, \"linewidth\": 0.25,\"color\":\"cornflowerblue\"}"
   ]
  },
  {
   "cell_type": "code",
   "execution_count": null,
   "metadata": {},
   "outputs": [],
   "source": [
    "d = xr.open_dataset(\"data/NorKyst-800m.nc\")\n",
    "f = Interpolator(dataset=d)\n",
    "\n",
    "Np = 500\n",
    "days, dt = 5, 3600\n",
    "T = [0, days * 24 * dt]\n",
    "mode = \"map\"\n",
    "loc, scale = [790000, 490000], 1000\n",
    "\n",
    "fig, ax = plt.subplots(1,1,figsize=(12, 8), subplot_kw={\"projection\": ccrs.PlateCarree()})\n",
    "traj.init_map(ax, **plot_params)\n",
    "traj.scatter(ax, t=0, label=\"initial position\", **scatterInitParams)\n",
    "traj.scatter(ax, t=-1, label=\"final position\", **scatterFinalParams)\n",
    "ax.set_title(f\"Trajectories of $N_p = {Np}$ particles over {days} days\")\n",
    "ax.set_xlabel(\"X (m)\")\n",
    "ax.set_ylabel(\"Y (m)\")\n",
    "\n",
    "traj = Trajectory(T=T, dt=dt, Np=Np, mode=mode, loc=loc, scale=scale)\n",
    "traj(f)\n",
    "fig, ax = plt.subplots(1, 1, figsize=(12, 8))\n",
    "traj.plot(ax, **plot_params)\n",
    "traj.scatter(ax, t=0, label=\"initial position\", **scatterInitParams)\n",
    "traj.scatter(ax, t=-1, label=\"final position\", **scatterFinalParams)\n",
    "ax.set_title(f\"Trajectories of $N_p = {Np}$ particles over {days} days\")\n",
    "ax.set_xlabel(\"X (m)\")\n",
    "ax.set_ylabel(\"Y (m)\")\n",
    "plt.tight_layout()\n",
    "plt.show()"
   ]
  },
  {
   "cell_type": "markdown",
   "metadata": {},
   "source": [
    "## ( 2-b )"
   ]
  },
  {
   "cell_type": "code",
   "execution_count": null,
   "metadata": {},
   "outputs": [],
   "source": [
    "streamplot_params = {\n",
    "    \"color\": \"seagreen\",\n",
    "    \"density\": 1,\n",
    "    \"linewidth\": 0.25,\n",
    "    \"arrowsize\": 1,\n",
    "    \"arrowstyle\": \"->\",\n",
    "}\n",
    "scatterInitParams = {\"s\": 5, \"color\": \"blue\"}\n",
    "scatterFinalParams = {\"s\": 5, \"color\": \"green\"}\n",
    "plot_params = {\"alpha\": 0.5, \"linewidth\": 0.20,\"color\":\"cornflowerblue\"}"
   ]
  },
  {
   "cell_type": "code",
   "execution_count": null,
   "metadata": {},
   "outputs": [],
   "source": [
    "d = xr.open_dataset(\"data/NorKyst-800m.nc\")\n",
    "f = Interpolator(dataset=d)\n",
    "\n",
    "Np=500\n",
    "days = 5\n",
    "T = [0, days * 24 * 3600]\n",
    "dt=3600\n",
    "mode = \"map\"\n",
    "\n",
    "fig, ax = plt.subplots(1,3,figsize=(12, 12), subplot_kw={\"projection\": ccrs.PlateCarree()})\n",
    "\n",
    "ax[0].set_title(\"Bergensfjorden\")\n",
    "loc, scale = [250000, 460000], 10000\n",
    "traj_bergen = Trajectory(T=T, dt=dt, Np=Np, mode=mode, loc=loc, scale=scale, check_land=True)\n",
    "traj_bergen(f)\n",
    "traj_bergen.init_map(ax[0], **plot_params)\n",
    "traj_bergen.streamplot(ax[0], **streamplot_params)\n",
    "traj_bergen.scatter(ax[0], t=0, **scatterInitParams)\n",
    "traj_bergen.scatter(ax[0], t=-1, **scatterFinalParams)\n",
    "\n",
    "ax[1].set_title(\"Lofoten\")\n",
    "loc, scale = [1240000, 480000], 10000\n",
    "traj_lofoten = Trajectory(T=T, dt=dt, Np=Np, mode=mode, loc=loc, scale=scale, check_land=True)\n",
    "traj_lofoten(f)\n",
    "traj_lofoten.init_map(ax[1], **plot_params)\n",
    "traj_lofoten.streamplot(ax[1], **streamplot_params)\n",
    "traj_lofoten.scatter(ax[1], t=0, **scatterInitParams)\n",
    "traj_lofoten.scatter(ax[1], t=-1, **scatterFinalParams)\n",
    "\n",
    "ax[2].set_title(\"Oslofjorden\")\n",
    "loc, scale = [200_000, 140_000], 1000\n",
    "traj_oslo = Trajectory(T=T, dt=dt, Np=Np, mode=mode, loc=loc, scale=scale, check_land=True)\n",
    "traj_oslo(f)\n",
    "traj_oslo.init_map(ax[2], **plot_params)\n",
    "traj_oslo.streamplot(ax[2], **streamplot_params)\n",
    "traj_oslo.scatter(ax[2], t=0, **scatterInitParams)\n",
    "traj_oslo.scatter(ax[2], t=-1, **scatterFinalParams)\n",
    "plt.show()"
   ]
  },
  {
   "cell_type": "markdown",
   "metadata": {},
   "source": [
    "# Problem 3\n",
    "\n",
    "## ( 3-a )\n"
   ]
  },
  {
   "cell_type": "code",
   "execution_count": null,
   "metadata": {},
   "outputs": [],
   "source": [
    "streamplot_params = {\n",
    "    \"color\": \"seagreen\",\n",
    "    \"density\": 0.5,\n",
    "    \"linewidth\": 1,\n",
    "    \"arrowsize\": 1,\n",
    "    \"arrowstyle\": \"->\",\n",
    "}\n",
    "plot_params = {\n",
    "    \"color\": \"cornflowerblue\",\n",
    "    \"alpha\" : 0.5,\n",
    "    \"linewidth\": 0.1\n",
    "}"
   ]
  },
  {
   "cell_type": "code",
   "execution_count": null,
   "metadata": {},
   "outputs": [],
   "source": [
    "d = xr.open_dataset(\"data/NorKyst-800m.nc\")\n",
    "f = Interpolator(dataset=d)\n",
    "\n",
    "Np=1000\n",
    "days = 5\n",
    "T = [0, days * 24 * 3600]\n",
    "dt=3600\n",
    "mode = \"map\"\n",
    "loc, scale = [250000, 460000], 10000\n",
    "\n",
    "fig, ax = plt.subplots(1,3,figsize=(12, 12), subplot_kw={\"projection\": ccrs.PlateCarree()})\n",
    "traj_bergen = Trajectory(T=T, dt=dt, Np=Np, mode=mode, loc=loc, scale=scale, check_land=True)\n",
    "traj_bergen(f)\n",
    "traj_bergen.init_map(ax[0], **plot_params)\n",
    "traj_bergen.streamplot(ax[0], **streamplot_params)\n",
    "traj_bergen.scatter(ax[0], t=0, **{\"label\": \"Initial Position\", \"color\": \"blue\", \"s\": 5})\n",
    "traj_bergen.scatter(ax[0], t=-1, **{\"label\": \"Final Position\", \"color\": \"green\", \"s\": 5})\n",
    "ax[0].set_title(\"Bergensfjorden\")\n",
    "\n",
    "loc, scale = [1240000, 480000], 10000\n",
    "traj_lofoten = Trajectory(T=T, dt=dt, Np=Np, mode=mode, loc=loc, scale=scale, check_land=True)\n",
    "traj_lofoten(f)\n",
    "traj_lofoten.init_map(ax[1], **plot_params)\n",
    "traj_lofoten.streamplot(ax[1], **streamplot_params)\n",
    "traj_lofoten.scatter(ax[1], t=0, **{\"label\": \"Initial Position\", \"color\": \"blue\", \"s\": 5})\n",
    "traj_lofoten.scatter(ax[1], t=-1, **{\"label\": \"Final Position\", \"color\": \"green\", \"s\": 5})\n",
    "ax[1].set_title(\"Lofoten\")\n",
    "\n",
    "loc, scale = [35000, 14000], 1000\n",
    "traj_oslo = Trajectory(T=T, dt=dt, Np=Np, mode=mode, loc=loc, scale=scale, check_land=True)\n",
    "traj_oslo(f)\n",
    "traj_oslo.init_map(ax[2], **plot_params)\n",
    "traj_oslo.streamplot(ax[2], **streamplot_params)\n",
    "traj_oslo.scatter(ax[2], t=0, **{\"label\": \"Initial Position\", \"color\": \"blue\", \"s\": 5})\n",
    "traj_oslo.scatter(ax[2], t=-1, **{\"label\": \"Final Position\", \"color\": \"green\", \"s\": 5})\n",
    "ax[2].set_title(\"Oslofjorden\")\n",
    "plt.tight_layout()\n",
    "plt.show()"
   ]
  },
  {
   "cell_type": "markdown",
   "metadata": {},
   "source": [
    "## ( 3-b ) Windage factor\n",
    "\n",
    "With the same initial conditions as above, try a few different windage factors, in\n",
    "the range from 0 to 0.15, and show how this affects the results. You can for example\n",
    "look into the percentage of particles that become stranded after three days as a\n",
    "function of fw. Note that the results may of course depend on where (and when)\n",
    "you start the particle trajectories, and for some initial conditions no particles will\n",
    "reach land at all\n"
   ]
  },
  {
   "cell_type": "code",
   "execution_count": null,
   "metadata": {},
   "outputs": [],
   "source": [
    "fw = np.linspace(0, 0.30, 10)\n",
    "\n",
    "Np=100\n",
    "days = 3\n",
    "T = [0, days * 24 * 3600]\n",
    "dt=3600\n",
    "mode = \"map\"\n",
    "loc, scale = [250000, 460000], 10000\n",
    "fig, ax = plt.subplots(1,1,figsize=(10, 10), subplot_kw={\"projection\": ccrs.PlateCarree()})\n",
    "\n",
    "landed = []\n",
    "for w in fw:\n",
    "    d = xr.open_dataset(\"data/NorKyst-800m.nc\")\n",
    "    f = Interpolator(dataset=d)\n",
    "    traj_bergen = Trajectory(T=T, dt=dt, Np=Np, mode=mode, loc=loc, scale=scale, check_land=True)\n",
    "    traj_bergen(f)\n",
    "    traj_bergen.init_map(ax, **plot_params)\n",
    "    traj_bergen.plot(ax, **{\"alpha\":0.5, \"lw\":0.25})\n",
    "    traj_bergen.scatter(ax, t=0, **{\"label\": \"Initial Position\",\"s\":2.5})\n",
    "    traj_bergen.scatter(ax, t=-1, **{\"label\": \"Final Position\", \"s\":2.5})\n",
    "    landed.append(traj_bergen.get_land_particles())\n",
    "\n",
    "\n",
    "ax.set_title(\"Bergenskysten\")\n",
    "plt.show()"
   ]
  },
  {
   "cell_type": "code",
   "execution_count": null,
   "metadata": {},
   "outputs": [],
   "source": [
    "fw = np.linspace(0, 0.30, 10)\n",
    "streamplot_params = {\"density\":0.5, \"color\":\"seagreen\",}\n",
    "Np=100\n",
    "days = 3\n",
    "T = [0, days * 24 * 3600]\n",
    "dt=3600\n",
    "mode = \"map\"\n",
    "loc, scale = [1240000, 480000], 10000\n",
    "fig, ax = plt.subplots(1,1,figsize=(10, 10), subplot_kw={\"projection\": ccrs.PlateCarree()})\n",
    "\n",
    "landed = []\n",
    "for w in fw:\n",
    "    d = xr.open_dataset(\"data/NorKyst-800m.nc\")\n",
    "    f = Interpolator(dataset=d)\n",
    "    traj_bergen = Trajectory(T=T, dt=dt, Np=Np, mode=mode, loc=loc, scale=scale, check_land=True)\n",
    "    traj_bergen(f)\n",
    "    traj_bergen.init_map(ax, **plot_params)\n",
    "    traj_bergen.plot(ax, **{\"alpha\":0.5, \"lw\":0.25})\n",
    "    traj_bergen.scatter(ax, t=0, **{\"label\": \"Initial Position\",\"s\":2.5})\n",
    "    traj_bergen.scatter(ax, t=-1, **{\"label\": \"Final Position\", \"s\":2.5})\n",
    "    traj_bergen.streamplot(ax, **streamplot_params)\n",
    "    landed.append(traj_bergen.get_land_particles())\n",
    "\n",
    "\n",
    "ax.set_title(\"Bergenskysten\")\n",
    "plt.show()"
   ]
  },
  {
   "cell_type": "code",
   "execution_count": null,
   "metadata": {},
   "outputs": [],
   "source": [
    "\n",
    "def get_landed_total(landed):\n",
    "    coast = []\n",
    "    for x,y in landed:\n",
    "        coast.append(x.shape[0])\n",
    "    coast = np.array(coast)\n",
    "    return coast\n",
    "\n",
    "coast = get_landed_total(landed)\n",
    "\n",
    "fig, ax = plt.subplots(1,1,figsize=(10, 5))\n",
    "ax.plot(fw, coast, marker=\"o\")\n",
    "ax.set_xlabel(\"Windage factor\")\n",
    "ax.set_ylabel(\"Percentage of particles landed\")\n",
    "ax.set_title(\"Percentage of particles landed vs. windage factor\")\n",
    "plt.grid()\n",
    "plt.show()"
   ]
  }
 ],
 "metadata": {
  "anaconda-cloud": {},
  "kernelspec": {
   "display_name": "Python 3",
   "language": "python",
   "name": "python3"
  },
  "language_info": {
   "codemirror_mode": {
    "name": "ipython",
    "version": 3
   },
   "file_extension": ".py",
   "mimetype": "text/x-python",
   "name": "python",
   "nbconvert_exporter": "python",
   "pygments_lexer": "ipython3",
   "version": "3.12.2"
  }
 },
 "nbformat": 4,
 "nbformat_minor": 1
}
