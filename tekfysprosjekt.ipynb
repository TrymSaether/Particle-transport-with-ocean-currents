{
 "cells": [
  {
   "cell_type": "code",
   "execution_count": null,
   "metadata": {},
   "outputs": [],
   "source": [
    "import numpy as np\n",
    "import matplotlib.pyplot as plt\n",
    "import scipy.interpolate as interp"
   ]
  },
  {
   "cell_type": "code",
   "execution_count": null,
   "metadata": {},
   "outputs": [],
   "source": [
    "# Heuns method\n",
    "def heun(x0, y0, t0, tf, f, Nmax=100):\n",
    "    xs = [x0]\n",
    "    ys = [y0]\n",
    "    ts = [t0]\n",
    "    dt = (tf - t0) / Nmax\n",
    "    \n",
    "    while ts[-1] < tf:\n",
    "        x,y, t = xs[-1],ys[-1],ts[-1]\n",
    "        k0_x, k0_y = f(x, y, t)\n",
    "        k1_x, k1_y  = f(x + dt * k0_x, y + dt*k0_y, t + dt)\n",
    "        \n",
    "        xs.append(x + 0.5 * dt * (k0_x + k1_x))\n",
    "        ys.append(y + 0.5 * dt * (k0_y + k1_y))\n",
    "        ts.append(t + dt)\n",
    "    return np.array(xs), np.array(ys), np.array(ts)\n",
    "\n",
    "\n",
    "def func(x, t):\n",
    "    eps, w = 0.25, 1\n",
    "    a = eps * np.sin(w * t)\n",
    "    b = 1 - 2 * eps * np.sin(w * t)\n",
    "    dy_dx = 2 * a * x + b\n",
    "    y = a * x**2 + b * x\n",
    "    return y, dy_dx\n",
    "\n",
    "def velocity(x, y, t):\n",
    "    A = 0.1\n",
    "    f, df = func(x, t)\n",
    "    vx = -np.pi * A * np.sin(np.pi * f) * np.cos(np.pi * y)\n",
    "    vy = np.pi * A * np.cos(np.pi * f) * np.sin(np.pi * y) * df\n",
    "    return vx, vy\n",
    "\n",
    "ti, tf = 0, 50\n",
    "x0, y0 = np.array([1.05, 0.50])\n",
    "\n",
    "for N in [100, 500, 1000, 10000]:\n",
    "    xs, ys, ts = heun(x0, y0, ti, tf, velocity, N)\n",
    "    plt.plot(xs, ys, label=\"dt = {}\".format((tf - ti) / N))\n",
    "    \n",
    "plt.xlabel(\"x\")\n",
    "plt.ylabel(\"y\")\n",
    "plt.legend()\n",
    "plt.grid()\n",
    "plt.show()\n",
    "\n"
   ]
  },
  {
   "cell_type": "markdown",
   "metadata": {},
   "source": [
    "### 1.a \n",
    "- We will first consider a single particle starting from an initial position $x0 = [1.05, 0.5]$. Let the trajectory, $x(t)$, of the particle be controlled by Eqs. (3) and (4). Calculate the trajectory for the time interval $t \\in [0, 50]$, using **Heun’s method.**\n",
    "- Try a few different timesteps, and compare the results by plotting the trajectories for different timesteps in the same plot. Make up your mind about what seems a reasonably short timestep. What happens if you double the integration time, such that $t \\in [0, 100]$, is the same timestep still a good choice?"
   ]
  },
  {
   "cell_type": "code",
   "execution_count": null,
   "metadata": {},
   "outputs": [],
   "source": [
    "from module.trajectory import Trajectory\n",
    "\n",
    "# Oppgave 1a\n",
    "traj = Trajectory()\n",
    "traj.oppgave_1a()"
   ]
  },
  {
   "cell_type": "code",
   "execution_count": null,
   "metadata": {},
   "outputs": [],
   "source": [
    "import time\n",
    "import matplotlib.pyplot as plt\n",
    "\n",
    "# List to store run times\n",
    "run_times = []\n",
    "\n",
    "# List of different numbers of particles\n",
    "Np_values = [1, 10, 100, 1000]\n",
    "ti, tf = 0, 10\n",
    "\n",
    "for Np in Np_values:\n",
    "    # Initialize particles here\n",
    "    \n",
    "    x0_grid, y0_grid = np.meshgrid(np.linspace(1e-3, 0.1, Np), np.linspace(1e-3, 0.1, Np))\n",
    "\n",
    "    # Flatten the grid to get a list of initial conditions\n",
    "    y0_list = y0_grid.flatten()\n",
    "    x0_list = x0_grid.flatten()\n",
    "    \n",
    "    start_time = time.time()\n",
    "    \n",
    "    for x0, y0 in zip(x0_list, y0_list):\n",
    "        _, _, _ = heun(x0, y0, ti, tf, velocity, Nmax = 1000)\n",
    "        \n",
    "    end_time = time.time()\n",
    "    run_time = end_time - start_time\n",
    "    run_times.append(run_time)\n",
    "\n",
    "# Plot run time as a function of Np\n",
    "plt.plot(Np_values, run_times, marker='o')\n",
    "plt.xlabel('Number of particles (Np)')\n",
    "plt.ylabel('Run time (seconds)')\n",
    "plt.title('Run time of Heun\\'s method for different Np')\n",
    "plt.grid(True)\n",
    "plt.show()"
   ]
  }
 ],
 "metadata": {
  "kernelspec": {
   "display_name": "saanum",
   "language": "python",
   "name": "python3"
  },
  "language_info": {
   "codemirror_mode": {
    "name": "ipython",
    "version": 3
   },
   "file_extension": ".py",
   "mimetype": "text/x-python",
   "name": "python",
   "nbconvert_exporter": "python",
   "pygments_lexer": "ipython3",
   "version": "3.11.7"
  }
 },
 "nbformat": 4,
 "nbformat_minor": 2
}
